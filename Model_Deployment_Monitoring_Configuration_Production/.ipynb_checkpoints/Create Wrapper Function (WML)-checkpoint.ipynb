{
 "cells": [
  {
   "cell_type": "markdown",
   "metadata": {
    "collapsed": true,
    "id": "9313907c-2591-475e-aa1d-ba8bc25b1d3a"
   },
   "source": [
    "# Create Wrapper Function for WML Model"
   ]
  },
  {
   "cell_type": "markdown",
   "metadata": {
    "id": "4d7c38a8b8fc4d60b4dc77122857bd02"
   },
   "source": [
    "This notebook demonstrates how to create wrapper funciton for a WML deployment. The function checks whether the model usability status in OpenPages is set to \"Allow\" before calling the endpoint."
   ]
  },
  {
   "cell_type": "markdown",
   "metadata": {
    "id": "874842beb3834d928abca233eeb2fe5e"
   },
   "source": [
    "### Load Configuration File"
   ]
  },
  {
   "cell_type": "code",
   "execution_count": 5,
   "metadata": {
    "id": "59422b62294f4adaabdb056938c8fe01"
   },
   "outputs": [],
   "source": [
    "import os\n",
    "#os.environ[\"CONFIG_FILE\"] = \"wrapper_config_wml.json\"\n",
    "config_file = os.environ.get('CONFIG_FILE').replace(\"\\\"\",\"\")"
   ]
  },
  {
   "cell_type": "code",
   "execution_count": 6,
   "metadata": {
    "id": "45224d28c4d840e3b95301040979a45a"
   },
   "outputs": [],
   "source": [
    "import json\n",
    "wrapper_config=json.load(open(f\"/project_data/data_asset/{config_file}\"))"
   ]
  },
  {
   "cell_type": "code",
   "execution_count": null,
   "metadata": {
    "id": "250a372232a7457bab7bc6afdad7e2ca"
   },
   "outputs": [],
   "source": [
    "# Credentials for external endpoint\n",
    "ml_endpoint = wrapper_config['endpoint_info']['wml_endpoint']\n",
    "# WML information\n",
    "deployment_space = wrapper_config['function_info']['deployment_space']\n",
    "function_name = wrapper_config['function_info']['function_name']\n",
    "deployment_name = wrapper_config['function_info']['deployment_name']\n",
    "# OpenPages Information\n",
    "op_api_key = wrapper_config['openpages_info']['op_api_key']\n",
    "model_status_field = wrapper_config['openpages_info']['model_status_field']\n",
    "mrm_model_id = wrapper_config['openpages_info']['mrm_model_id']\n",
    "# CPD Auth\n",
    "cpd_username=wrapper_config['cpd_credentials']['cpd_username']\n",
    "cpd_api_key=wrapper_config['cpd_credentials']['cpd_api_key']"
   ]
  },
  {
   "cell_type": "code",
   "execution_count": null,
   "metadata": {
    "id": "2bcedc9c25f6473884ad7faaad7d3052"
   },
   "outputs": [],
   "source": [
    "cpd_host = \"https://zen-cpd-zen.ibmcloud-roks-hhlrn-6ccd7f378ae819553d37d5f2ee142bd6-0000.mex01.containers.appdomain.cloud\"\n",
    "openpages_url = 'https://openpages-openpages-1-zen.ibmcloud-roks-hhlrn-6ccd7f378ae819553d37d5f2ee142bd6-0000.mex01.containers.appdomain.cloud'"
   ]
  },
  {
   "cell_type": "markdown",
   "metadata": {
    "id": "3a876c89161f4982b087585129692567"
   },
   "source": [
    "## Define Wrapper Function\n",
    "Below we define the wrapper function which will 1) check the usability status of the model in OpenPages and 2) call the WML model endpoint if usability status is \"Allow\"."
   ]
  },
  {
   "cell_type": "code",
   "execution_count": null,
   "metadata": {
    "id": "40da43850e6745cd889e5a8a01f426c1"
   },
   "outputs": [],
   "source": [
    "\n",
    "params = {'ml_endpoint': ml_endpoint,'cpd_username': cpd_username,'cpd_api_key': cpd_api_key,'cpd_host': cpd_host,'openpages_url':openpages_url,'model_status_field':model_status_field,'mrm_model_id': mrm_model_id,'op_api_key': op_api_key,\n",
    "         'openpages_url': openpages_url}\n",
    "\n",
    "\n"
   ]
  },
  {
   "cell_type": "code",
   "execution_count": null,
   "metadata": {
    "id": "53d938ad7dcc419f8f0693a73632fb40"
   },
   "outputs": [],
   "source": [
    "def wrapper_func(params=params):\n",
    "    import requests\n",
    "    import random\n",
    "    import json\n",
    "    from urllib.parse import urlparse\n",
    "    \n",
    "    cpdhost = params['cpd_host']\n",
    "    cpd_username = params['cpd_username']\n",
    "    cpd_api_key = params['cpd_api_key']\n",
    "    cpd_host = params['cpd_host']\n",
    "    op_api_key  = params['op_api_key']\n",
    "\n",
    "\n",
    "    def get_model_use_status(params=params):#always two params in dict format\n",
    "        data = {\n",
    "                \"statement\": \"SELECT * FROM [Model] where [Model].[Name]={0}\".format(\n",
    "                    '\\u0027' + params['mrm_model_id'] + '\\u0027'),\n",
    "                \"skipCount\": 0\n",
    "            }  \n",
    "        r = requests.post(\"{0}/grc/api/query\".format(params['openpages_url']),\n",
    "                              headers={\"Authorization\": \"Basic \" + params['op_api_key']}, json=data, verify=False)\n",
    "        data = r.json()\n",
    "        rows = data['rows']\n",
    "        model_status_key = params['model_status_field'] #something like 'MRG-Model:Status'\n",
    "        res = filter(lambda x: x['name'] == model_status_key, rows[0]['fields']['field'])\n",
    "        model_use_status = list(res)[0]['enumValue']['name']\n",
    "        return model_use_status\n",
    "    \n",
    "    def getToken(cpdhost,username,apikey):\n",
    "        auth_url = \"{0}/icp4d-api/v1/authorize\".format(cpdhost)\n",
    "        auth_response = requests.post(\n",
    "            auth_url,\n",
    "            headers={\n",
    "                \"Content-Type\": \"application/json\"\n",
    "            },\n",
    "            data='{\"username\": \"'+username+'\", \"api_key\": \"'+apikey+'\"}',\n",
    "            verify=False)\n",
    "\n",
    "        return auth_response.json()['token']\n",
    "    \n",
    "\n",
    "    \n",
    "    def getPrediction(endpoint,payload_scoring):\n",
    "        parsed_uri = urlparse(endpoint)\n",
    "        #cpdhost = '{uri.scheme}://{uri.netloc}'.format(uri=parsed_uri)\n",
    "        token=getToken(cpd_host,cpd_username,cpd_api_key)\n",
    "        header = {'Content-Type': 'application/json', 'Authorization': 'Bearer ' + token}\n",
    "        response_scoring = requests.post(endpoint, json=payload_scoring, headers=header,verify=False)\n",
    "        return response_scoring.json()\n",
    "    \n",
    "    \n",
    "    \n",
    "    def score(payload):\n",
    "        #prediction = getPredictionWML(params['ml_endpoint'],payload)\n",
    "        if get_model_use_status(params)==\"Allow\":  \n",
    "            prediction=getPrediction(params['ml_endpoint'],payload)\n",
    "        else:\n",
    "            raise ValueError(\"Model is not in allow state.\")\n",
    "        return prediction\n",
    "\n",
    "    return score\n",
    "    "
   ]
  },
  {
   "cell_type": "markdown",
   "metadata": {
    "id": "13e5a9cae65346cb91ac5b4079a84b83"
   },
   "source": [
    "## Test Function Locally"
   ]
  },
  {
   "cell_type": "code",
   "execution_count": 2,
   "metadata": {
    "id": "1e987b4c5c3749488f570a35a0cebe24"
   },
   "outputs": [],
   "source": [
    "#input_payload = {\"input_data\":[{\"fields\":[\"DAY\",\"DAY_OF_WEEK\",\"ORIGIN_AIRPORT\",\"DESTINATION_AIRPORT\",\"DEPARTURE_DELAY\",\"TAXI_OUT\",\"DISTANCE\"],\"values\":[[11,7,\"ABQ\",\"DFW\",2,11,570],[11,7,\"ABQ\",\"DFW\",2,11,570]]}]}"
   ]
  },
  {
   "cell_type": "code",
   "execution_count": 3,
   "metadata": {
    "id": "f6c02cba9be44bea9c4991ab93206f4d"
   },
   "outputs": [],
   "source": [
    "#wrapper_func()(input_payload)"
   ]
  },
  {
   "cell_type": "code",
   "execution_count": null,
   "metadata": {
    "id": "9052f974048d428897af9f9999ab271b"
   },
   "outputs": [],
   "source": [
    "from ibm_watson_machine_learning import APIClient \n",
    "import os"
   ]
  },
  {
   "cell_type": "markdown",
   "metadata": {
    "id": "0a2d444e116f4af196fab197573f75dc"
   },
   "source": [
    "## Store Function in Deployment Space and Deploy"
   ]
  },
  {
   "cell_type": "code",
   "execution_count": null,
   "metadata": {
    "id": "95614306e33f4f029b0d58462034ec94"
   },
   "outputs": [],
   "source": [
    "token = os.environ['USER_ACCESS_TOKEN']\n",
    "wml_credentials = {\n",
    "   \"token\": token,\n",
    "   \"instance_id\" : \"wml_local\",\n",
    "   \"url\": os.environ['RUNTIME_ENV_APSX_URL'],\n",
    "   \"version\": \"3.5\"\n",
    "}\n",
    "wml_client = APIClient(wml_credentials)"
   ]
  },
  {
   "cell_type": "code",
   "execution_count": null,
   "metadata": {
    "id": "b8997c62433e47c3aa5287d0b2187944"
   },
   "outputs": [],
   "source": [
    "DEFAULT_DEPLOYMENT_SPACE=deployment_space\n",
    "\n",
    "filtered_spaces=[ space['metadata']['id'] for space in wml_client.spaces.get_details()['resources'] if space['entity']['name']== DEFAULT_DEPLOYMENT_SPACE]\n",
    "if len(filtered_spaces)>0:\n",
    "    space_id=filtered_spaces[0]\n",
    "else:\n",
    "    space_metadata = {\n",
    "        wml_client.spaces.ConfigurationMetaNames.NAME: DEFAULT_DEPLOYMENT_SPACE,\n",
    "        wml_client.spaces.ConfigurationMetaNames.DESCRIPTION: DEFAULT_DEPLOYMENT_SPACE,\n",
    "    }\n",
    "    space_details=wml_client.spaces.store(meta_props=space_metadata);\n",
    "    space_id=space_details['metadata']['id']\n",
    "    \n",
    "print(space_id)"
   ]
  },
  {
   "cell_type": "code",
   "execution_count": null,
   "metadata": {
    "id": "913fe165f40a46cfa04d709b2f86835e"
   },
   "outputs": [],
   "source": [
    "wml_client.set.default_space(space_id)"
   ]
  },
  {
   "cell_type": "code",
   "execution_count": null,
   "metadata": {
    "id": "bd9b88edf6bd48bc9c72258977566df5"
   },
   "outputs": [],
   "source": [
    "meta_data = { wml_client.repository.FunctionMetaNames.NAME : function_name,\n",
    "              wml_client.repository.FunctionMetaNames.SOFTWARE_SPEC_UID: wml_client.software_specifications.get_id_by_name('default_py3.7_opence')}\n",
    "function_details = wml_client.repository.store_function(wrapper_func, meta_data)"
   ]
  },
  {
   "cell_type": "code",
   "execution_count": null,
   "metadata": {
    "id": "bc0f961130084250ab8eddd61161f28c"
   },
   "outputs": [],
   "source": [
    "function_details"
   ]
  },
  {
   "cell_type": "code",
   "execution_count": null,
   "metadata": {
    "id": "39747666cc8a4c448c4fd125a73b5638"
   },
   "outputs": [],
   "source": [
    "metadata = {\n",
    "        wml_client.deployments.ConfigurationMetaNames.NAME: deployment_name,\n",
    "        wml_client.deployments.ConfigurationMetaNames.ONLINE: {}\n",
    "    }\n",
    "model_id = function_details[\"metadata\"][\"id\"]\n",
    "deployment_details = wml_client.deployments.create(artifact_uid=model_id, meta_props=metadata)"
   ]
  }
 ],
 "metadata": {
  "kernelspec": {
   "display_name": "Python 3 (ipykernel)",
   "language": "python",
   "name": "python3"
  },
  "language_info": {
   "codemirror_mode": {
    "name": "ipython",
    "version": 3
   },
   "file_extension": ".py",
   "mimetype": "text/x-python",
   "name": "python",
   "nbconvert_exporter": "python",
   "pygments_lexer": "ipython3",
   "version": "3.9.6"
  }
 },
 "nbformat": 4,
 "nbformat_minor": 1
}
