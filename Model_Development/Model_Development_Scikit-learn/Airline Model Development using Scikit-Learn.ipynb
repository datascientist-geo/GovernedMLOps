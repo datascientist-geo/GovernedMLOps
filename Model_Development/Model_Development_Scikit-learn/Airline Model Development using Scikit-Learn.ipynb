{
 "cells": [
  {
   "cell_type": "markdown",
   "metadata": {
    "id": "c4142a32-fc1d-4a71-8b03-b193234a80fd"
   },
   "source": [
    "## Model Development Using Scikit-Learn\n",
    "- Please open this notebook in edit mode."
   ]
  },
  {
   "cell_type": "markdown",
   "metadata": {
    "id": "a639e885-9568-40e1-a6b9-699ca1c86b57"
   },
   "source": [
    "#### Load Airline Delay data as pandas dataframe from the csv\n",
    "- This is the csv file we stored as a data asset in the previous step."
   ]
  },
  {
   "cell_type": "code",
   "execution_count": 7,
   "metadata": {
    "id": "d0d5039e-2a78-4b9f-a36c-6a284c77c1f7"
   },
   "outputs": [
    {
     "data": {
      "text/html": [
       "<div>\n",
       "<style scoped>\n",
       "    .dataframe tbody tr th:only-of-type {\n",
       "        vertical-align: middle;\n",
       "    }\n",
       "\n",
       "    .dataframe tbody tr th {\n",
       "        vertical-align: top;\n",
       "    }\n",
       "\n",
       "    .dataframe thead th {\n",
       "        text-align: right;\n",
       "    }\n",
       "</style>\n",
       "<table border=\"1\" class=\"dataframe\">\n",
       "  <thead>\n",
       "    <tr style=\"text-align: right;\">\n",
       "      <th></th>\n",
       "      <th>DAY</th>\n",
       "      <th>DAY_OF_WEEK</th>\n",
       "      <th>ORIGIN_AIRPORT</th>\n",
       "      <th>DESTINATION_AIRPORT</th>\n",
       "      <th>DEPARTURE_DELAY</th>\n",
       "      <th>TAXI_OUT</th>\n",
       "      <th>DISTANCE</th>\n",
       "      <th>DELAYED</th>\n",
       "    </tr>\n",
       "  </thead>\n",
       "  <tbody>\n",
       "    <tr>\n",
       "      <th>0</th>\n",
       "      <td>23</td>\n",
       "      <td>5</td>\n",
       "      <td>MSP</td>\n",
       "      <td>PHX</td>\n",
       "      <td>-2.0</td>\n",
       "      <td>13.0</td>\n",
       "      <td>1276</td>\n",
       "      <td>0</td>\n",
       "    </tr>\n",
       "    <tr>\n",
       "      <th>1</th>\n",
       "      <td>2</td>\n",
       "      <td>5</td>\n",
       "      <td>RAP</td>\n",
       "      <td>SLC</td>\n",
       "      <td>-6.0</td>\n",
       "      <td>32.0</td>\n",
       "      <td>508</td>\n",
       "      <td>0</td>\n",
       "    </tr>\n",
       "    <tr>\n",
       "      <th>2</th>\n",
       "      <td>8</td>\n",
       "      <td>4</td>\n",
       "      <td>STX</td>\n",
       "      <td>MIA</td>\n",
       "      <td>-5.0</td>\n",
       "      <td>9.0</td>\n",
       "      <td>1139</td>\n",
       "      <td>0</td>\n",
       "    </tr>\n",
       "    <tr>\n",
       "      <th>3</th>\n",
       "      <td>16</td>\n",
       "      <td>5</td>\n",
       "      <td>CLT</td>\n",
       "      <td>ATL</td>\n",
       "      <td>6.0</td>\n",
       "      <td>14.0</td>\n",
       "      <td>226</td>\n",
       "      <td>0</td>\n",
       "    </tr>\n",
       "    <tr>\n",
       "      <th>4</th>\n",
       "      <td>11</td>\n",
       "      <td>7</td>\n",
       "      <td>ATL</td>\n",
       "      <td>BDL</td>\n",
       "      <td>0.0</td>\n",
       "      <td>18.0</td>\n",
       "      <td>859</td>\n",
       "      <td>0</td>\n",
       "    </tr>\n",
       "  </tbody>\n",
       "</table>\n",
       "</div>"
      ],
      "text/plain": [
       "   DAY  DAY_OF_WEEK ORIGIN_AIRPORT DESTINATION_AIRPORT  DEPARTURE_DELAY  \\\n",
       "0   23            5            MSP                 PHX             -2.0   \n",
       "1    2            5            RAP                 SLC             -6.0   \n",
       "2    8            4            STX                 MIA             -5.0   \n",
       "3   16            5            CLT                 ATL              6.0   \n",
       "4   11            7            ATL                 BDL              0.0   \n",
       "\n",
       "   TAXI_OUT  DISTANCE  DELAYED  \n",
       "0      13.0      1276        0  \n",
       "1      32.0       508        0  \n",
       "2       9.0      1139        0  \n",
       "3      14.0       226        0  \n",
       "4      18.0       859        0  "
      ]
     },
     "execution_count": 7,
     "metadata": {},
     "output_type": "execute_result"
    }
   ],
   "source": [
    "import pandas as pd\n",
    "from project_lib import Project\n",
    "\n",
    "\n",
    "project = Project.access()\n",
    "df = pd.read_csv('/project_data/data_asset/train_flights_jan_2015_csv_shaped_1ev8vmlhh3wga43246hgfq3dc')\n",
    "df.head()"
   ]
  },
  {
   "cell_type": "markdown",
   "metadata": {
    "id": "2fe4a36a-403a-4759-b546-eb4cf0168ea0"
   },
   "source": [
    "### Seperate featues and label Column"
   ]
  },
  {
   "cell_type": "code",
   "execution_count": 9,
   "metadata": {
    "id": "ef05a3e9-a29a-48bd-9fa6-ae7996311342"
   },
   "outputs": [],
   "source": [
    "X=df.drop('DELAYED',axis=1)\n",
    "y=df['DELAYED']"
   ]
  },
  {
   "cell_type": "markdown",
   "metadata": {
    "id": "0bdcd254-6586-4302-bfa7-19e9343562ab"
   },
   "source": [
    "#### Separate categorical and numerical columns"
   ]
  },
  {
   "cell_type": "code",
   "execution_count": 10,
   "metadata": {
    "id": "f5718e31-b930-422a-90e9-f01ef7fdc9fc"
   },
   "outputs": [],
   "source": [
    "cat=[\"DAY\",\"DAY_OF_WEEK\",\"ORIGIN_AIRPORT\",\"DESTINATION_AIRPORT\"]\n",
    "numeric=['DEPARTURE_DELAY','TAXI_OUT',\"DISTANCE\"]"
   ]
  },
  {
   "cell_type": "markdown",
   "metadata": {
    "id": "c60a5625-ee6f-4a88-8597-d6bab2bebd3b"
   },
   "source": [
    "### Create preprocessor for categorical and numerical columns"
   ]
  },
  {
   "cell_type": "code",
   "execution_count": 12,
   "metadata": {
    "id": "7fd98d2b-336c-463e-b3e7-902dfd86acbc"
   },
   "outputs": [],
   "source": [
    "from sklearn.preprocessing import OneHotEncoder\n",
    "from sklearn.compose import ColumnTransformer\n",
    "from sklearn.preprocessing import StandardScaler\n",
    "\n",
    "preprocessor = ColumnTransformer(\n",
    "    transformers=[\n",
    "        ('num', StandardScaler(), numeric),\n",
    "        ('cat', OneHotEncoder(handle_unknown='ignore'), cat)])"
   ]
  },
  {
   "cell_type": "markdown",
   "metadata": {
    "id": "98caa616-bd88-443a-83e5-044a43e15089"
   },
   "source": [
    "### Create a pipeline with the preprocessor and an estimator"
   ]
  },
  {
   "cell_type": "code",
   "execution_count": 13,
   "metadata": {
    "id": "7939d0cd-a2da-4019-b438-4fb74df1e368"
   },
   "outputs": [],
   "source": [
    "from sklearn.pipeline import Pipeline\n",
    "from sklearn.ensemble import GradientBoostingClassifier\n",
    "from sklearn.linear_model import LogisticRegression\n",
    "\n",
    "#clf=GradientBoostingClassifier();\n",
    "clf=LogisticRegression()\n",
    "pipe = Pipeline(steps=[('preprocessor', preprocessor),\n",
    "                      ('classifier', clf)])"
   ]
  },
  {
   "cell_type": "markdown",
   "metadata": {
    "id": "0f0d6877-1b3b-467e-b068-902b704a735e"
   },
   "source": [
    "### K-fold cross validation "
   ]
  },
  {
   "cell_type": "code",
   "execution_count": 14,
   "metadata": {
    "id": "acee55a7-c8c6-434d-b296-cea83a8dacc9"
   },
   "outputs": [
    {
     "name": "stderr",
     "output_type": "stream",
     "text": [
      "/opt/conda/envs/Python-3.7-main/lib/python3.7/site-packages/sklearn/linear_model/_logistic.py:764: ConvergenceWarning: lbfgs failed to converge (status=1):\n",
      "STOP: TOTAL NO. of ITERATIONS REACHED LIMIT.\n",
      "\n",
      "Increase the number of iterations (max_iter) or scale the data as shown in:\n",
      "    https://scikit-learn.org/stable/modules/preprocessing.html\n",
      "Please also refer to the documentation for alternative solver options:\n",
      "    https://scikit-learn.org/stable/modules/linear_model.html#logistic-regression\n",
      "  extra_warning_msg=_LOGISTIC_SOLVER_CONVERGENCE_MSG)\n"
     ]
    },
    {
     "data": {
      "text/plain": [
       "0.9133772530075503"
      ]
     },
     "execution_count": 14,
     "metadata": {},
     "output_type": "execute_result"
    }
   ],
   "source": [
    "import warnings\n",
    "warnings.filterwarnings(\"ignore\")\n",
    "\n",
    "from sklearn.model_selection import cross_val_score\n",
    "\n",
    "scores = cross_val_score(pipe, X, y, cv=5)\n",
    "scores.mean()"
   ]
  },
  {
   "cell_type": "markdown",
   "metadata": {
    "id": "1163e711-ec52-46de-ae7e-34616defb686"
   },
   "source": [
    "### Fit the model"
   ]
  },
  {
   "cell_type": "code",
   "execution_count": 15,
   "metadata": {
    "id": "e8a8e374-d61a-462a-90e4-487a66b7f4b6"
   },
   "outputs": [],
   "source": [
    "model=pipe.fit(X,y);"
   ]
  },
  {
   "cell_type": "code",
   "execution_count": 16,
   "metadata": {
    "id": "7b521e2a-d292-469f-859d-ce6b5ec75a81"
   },
   "outputs": [
    {
     "data": {
      "text/html": [
       "<div>\n",
       "<style scoped>\n",
       "    .dataframe tbody tr th:only-of-type {\n",
       "        vertical-align: middle;\n",
       "    }\n",
       "\n",
       "    .dataframe tbody tr th {\n",
       "        vertical-align: top;\n",
       "    }\n",
       "\n",
       "    .dataframe thead th {\n",
       "        text-align: right;\n",
       "    }\n",
       "</style>\n",
       "<table border=\"1\" class=\"dataframe\">\n",
       "  <thead>\n",
       "    <tr style=\"text-align: right;\">\n",
       "      <th></th>\n",
       "      <th>DAY</th>\n",
       "      <th>DAY_OF_WEEK</th>\n",
       "      <th>ORIGIN_AIRPORT</th>\n",
       "      <th>DESTINATION_AIRPORT</th>\n",
       "      <th>DEPARTURE_DELAY</th>\n",
       "      <th>TAXI_OUT</th>\n",
       "      <th>DISTANCE</th>\n",
       "    </tr>\n",
       "  </thead>\n",
       "  <tbody>\n",
       "    <tr>\n",
       "      <th>0</th>\n",
       "      <td>11</td>\n",
       "      <td>7</td>\n",
       "      <td>MSP</td>\n",
       "      <td>PHX</td>\n",
       "      <td>2</td>\n",
       "      <td>11</td>\n",
       "      <td>570</td>\n",
       "    </tr>\n",
       "  </tbody>\n",
       "</table>\n",
       "</div>"
      ],
      "text/plain": [
       "   DAY  DAY_OF_WEEK ORIGIN_AIRPORT DESTINATION_AIRPORT  DEPARTURE_DELAY  \\\n",
       "0   11            7            MSP                 PHX                2   \n",
       "\n",
       "   TAXI_OUT  DISTANCE  \n",
       "0        11       570  "
      ]
     },
     "execution_count": 16,
     "metadata": {},
     "output_type": "execute_result"
    }
   ],
   "source": [
    "sdf=pd.DataFrame([[11,7,\"MSP\",\"PHX\",2,11,570]],columns=X.columns)\n",
    "sdf"
   ]
  },
  {
   "cell_type": "code",
   "execution_count": 17,
   "metadata": {
    "id": "1d4edb98-457f-4dab-971b-47680a5f4272"
   },
   "outputs": [
    {
     "data": {
      "text/plain": [
       "array([0])"
      ]
     },
     "execution_count": 17,
     "metadata": {},
     "output_type": "execute_result"
    }
   ],
   "source": [
    "model.predict(sdf)"
   ]
  },
  {
   "cell_type": "markdown",
   "metadata": {
    "id": "22916f98-7ea8-4be6-8266-98724e7e7c8e"
   },
   "source": [
    "## Store trained model\n",
    "- We will store the trained model in the project. The model should appear in the `Assets` tab under `Models` section.\n"
   ]
  },
  {
   "cell_type": "markdown",
   "metadata": {
    "id": "56ee8b2d-82e5-4964-8dbc-70a5ccf9c00e"
   },
   "source": [
    "##### Create a WML client\n",
    "- It fetches required credentials from the environment. **Please don't replace anything.**"
   ]
  },
  {
   "cell_type": "code",
   "execution_count": 78,
   "metadata": {
    "id": "7a7ce1a2ca0944efb28986560338a6b4"
   },
   "outputs": [],
   "source": [
    "#!pip install -U ibm-watson-machine-learning Install latest WML version once if required"
   ]
  },
  {
   "cell_type": "code",
   "execution_count": 20,
   "metadata": {
    "id": "5fffa7a77b504dec8ac9d42e1792c1ac"
   },
   "outputs": [
    {
     "name": "stdout",
     "output_type": "stream",
     "text": [
      "1f4d574e-3b85-4be4-b7da-57ff5b06f7b9\n"
     ]
    }
   ],
   "source": [
    "project = Project.access()\n",
    "project_id = project.get_metadata()['metadata']['guid']\n",
    "print(project_id)"
   ]
  },
  {
   "cell_type": "code",
   "execution_count": 21,
   "metadata": {
    "id": "0ca0986b-b067-4fba-95b7-52aec4d03bd2"
   },
   "outputs": [],
   "source": [
    "import os\n",
    "from ibm_watson_machine_learning import APIClient\n",
    "token = os.environ['USER_ACCESS_TOKEN']\n",
    "wml_credentials = {\n",
    "   \"token\": token,\n",
    "   \"instance_id\" : \"wml_local\",\n",
    "   \"url\": os.environ['RUNTIME_ENV_APSX_URL'],\n",
    "   \"version\": \"4.0\"\n",
    "}\n",
    "wml_client = APIClient(wml_credentials)"
   ]
  },
  {
   "cell_type": "code",
   "execution_count": 22,
   "metadata": {
    "id": "2443117e8798474a9ac8549163c44cd1"
   },
   "outputs": [
    {
     "data": {
      "text/plain": [
       "'SUCCESS'"
      ]
     },
     "execution_count": 22,
     "metadata": {},
     "output_type": "execute_result"
    }
   ],
   "source": [
    "wml_client.set.default_project(project_id)\n",
    "#wml_client.software_specifications.list()"
   ]
  },
  {
   "cell_type": "markdown",
   "metadata": {
    "id": "ae151f7d-0518-4ac0-8310-4fbc5d295b5d"
   },
   "source": [
    "### Prepare metadata for storing the model\n",
    "- <font color='red'>Please provide a unique model name to `MODEL_NAME` before running the following cell.</font>\n",
    "- Note: `RUNTIME_UID` is very important for metadata.\n"
   ]
  },
  {
   "cell_type": "code",
   "execution_count": 23,
   "metadata": {
    "id": "f75ec4c5-f7db-476e-91b6-44e4b3238e42"
   },
   "outputs": [],
   "source": [
    "MODEL_NAME= \"<unique-model-name>\"\n",
    "project = Project.access()\n",
    "project_id=project.get_metadata()['metadata']['guid']\n",
    "#print(project_id)\n",
    "\n",
    "software_spec_uid = wml_client.software_specifications.get_uid_by_name(\"default_py3.7\")\n",
    "#print(software_spec_uid)\n",
    "\n",
    "metadata = {\n",
    "    wml_client.repository.ModelMetaNames.NAME: MODEL_NAME,\n",
    "    wml_client.repository.ModelMetaNames.SOFTWARE_SPEC_UID: software_spec_uid,\n",
    "    wml_client.repository.ModelMetaNames.TYPE: \"scikit-learn_0.23\"\n",
    "}"
   ]
  },
  {
   "cell_type": "markdown",
   "metadata": {
    "id": "5678805c-534b-4023-a140-2d62ffbff577"
   },
   "source": [
    "### Store model in the WML repository\n",
    "- It gets schema details from the training data and target.\n",
    "- It stores model in project space."
   ]
  },
  {
   "cell_type": "code",
   "execution_count": 24,
   "metadata": {
    "id": "2a9918ce-44b7-4755-9205-968afb5cbb9e"
   },
   "outputs": [
    {
     "data": {
      "text/plain": [
       "{'entity': {'label_column': 'DELAYED',\n",
       "  'software_spec': {'id': 'e4429883-c883-42b6-87a8-f419d64088cd',\n",
       "   'name': 'default_py3.7'},\n",
       "  'training_data_references': [{'connection': {'access_key_id': 'not_applicable',\n",
       "     'endpoint_url': 'not_applicable',\n",
       "     'secret_access_key': 'not_applicable'},\n",
       "    'id': '1',\n",
       "    'location': {},\n",
       "    'schema': {'fields': [{'name': 'DAY', 'type': 'int64'},\n",
       "      {'name': 'DAY_OF_WEEK', 'type': 'int64'},\n",
       "      {'name': 'ORIGIN_AIRPORT', 'type': 'object'},\n",
       "      {'name': 'DESTINATION_AIRPORT', 'type': 'object'},\n",
       "      {'name': 'DEPARTURE_DELAY', 'type': 'float64'},\n",
       "      {'name': 'TAXI_OUT', 'type': 'float64'},\n",
       "      {'name': 'DISTANCE', 'type': 'int64'}],\n",
       "     'id': '1',\n",
       "     'type': 'DataFrame'},\n",
       "    'type': 'fs'}],\n",
       "  'type': 'scikit-learn_0.23'},\n",
       " 'metadata': {'created_at': '2021-08-26T20:20:38.926Z',\n",
       "  'id': '716067e5-55e3-4417-a04b-453f8695f2cc',\n",
       "  'modified_at': '2021-08-26T20:20:40.846Z',\n",
       "  'name': 'airline-scikitlearn',\n",
       "  'owner': '1000330999',\n",
       "  'project_id': '1f4d574e-3b85-4be4-b7da-57ff5b06f7b9'},\n",
       " 'system': {'warnings': []}}"
      ]
     },
     "execution_count": 24,
     "metadata": {},
     "output_type": "execute_result"
    }
   ],
   "source": [
    "#setting default project\n",
    "wml_client.set.default_project(project_id)\n",
    "\n",
    "#Storing\n",
    "model_details = wml_client.repository.store_model( model, meta_props=metadata, training_data=X, training_target=y)\n",
    "model_details"
   ]
  },
  {
   "cell_type": "code",
   "execution_count": null,
   "metadata": {
    "id": "041fb747-cc7c-47a8-b4fe-f7ab3e707a2c"
   },
   "outputs": [],
   "source": []
  }
 ],
 "metadata": {
  "kernelspec": {
   "display_name": "Python 3 (ipykernel)",
   "language": "python",
   "name": "python3"
  },
  "language_info": {
   "codemirror_mode": {
    "name": "ipython",
    "version": 3
   },
   "file_extension": ".py",
   "mimetype": "text/x-python",
   "name": "python",
   "nbconvert_exporter": "python",
   "pygments_lexer": "ipython3",
   "version": "3.9.6"
  }
 },
 "nbformat": 4,
 "nbformat_minor": 1
}
