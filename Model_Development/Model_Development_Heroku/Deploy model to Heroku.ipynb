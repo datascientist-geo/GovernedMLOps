{
 "cells": [
  {
   "cell_type": "markdown",
   "metadata": {
    "id": "feb66216a9364d9abdb95fb235bed11c"
   },
   "source": [
    "# Model Deployment in Heroku"
   ]
  },
  {
   "cell_type": "markdown",
   "metadata": {
    "id": "4224baa2ea7f4b0a85c1c58afbfacab2"
   },
   "source": [
    "### Lets clone a heroku web server project"
   ]
  },
  {
   "cell_type": "code",
   "execution_count": 125,
   "metadata": {
    "id": "b7d0cb11a92c46f2b4c9c9e143f2d997"
   },
   "outputs": [
    {
     "name": "stderr",
     "output_type": "stream",
     "text": [
      "Cloning into 'heroku-model-deploy'...\n"
     ]
    }
   ],
   "source": [
    "%%sh\n",
    "rm -rf heroku-model-deploy\n",
    "git clone https://github.com/makkader/heroku-model-deploy.git"
   ]
  },
  {
   "cell_type": "markdown",
   "metadata": {
    "id": "580df137109c45d789ee63f44475a07d"
   },
   "source": [
    "### Lets place our model to the project"
   ]
  },
  {
   "cell_type": "code",
   "execution_count": 128,
   "metadata": {
    "id": "7b56d0bf950f408781a96d335631f51e"
   },
   "outputs": [],
   "source": [
    "!cp -f /project_data/data_asset/airline-sklearn.pkl heroku-model-deploy/airline-sklearn.pkl"
   ]
  },
  {
   "cell_type": "markdown",
   "metadata": {
    "collapsed": true,
    "id": "ae0483de-7797-4ae4-b119-89b84ccb7645"
   },
   "source": [
    "## Install heroku cli"
   ]
  },
  {
   "cell_type": "code",
   "execution_count": 129,
   "metadata": {
    "id": "df8399ee238a4b618942a774a1dfc2a3"
   },
   "outputs": [
    {
     "name": "stdout",
     "output_type": "stream",
     "text": [
      "--2021-09-03 16:32:48--  https://cli-assets.heroku.com/heroku-linux-x64.tar.gz\n",
      "Resolving cli-assets.heroku.com (cli-assets.heroku.com)... 13.226.186.26, 13.226.186.53, 13.226.186.95, ...\n",
      "Connecting to cli-assets.heroku.com (cli-assets.heroku.com)|13.226.186.26|:443... connected.\n",
      "HTTP request sent, awaiting response... 200 OK\n",
      "Length: 33147757 (32M) [application/gzip]\n",
      "Saving to: ‘heroku-linux-x64.tar.gz.2’\n",
      "\n",
      "heroku-linux-x64.ta 100%[===================>]  31.61M  30.1MB/s    in 1.1s    \n",
      "\n",
      "2021-09-03 16:32:49 (30.1 MB/s) - ‘heroku-linux-x64.tar.gz.2’ saved [33147757/33147757]\n",
      "\n"
     ]
    }
   ],
   "source": [
    "!wget https://cli-assets.heroku.com/heroku-linux-x64.tar.gz\n",
    "!tar xz -f heroku-linux-x64.tar.gz "
   ]
  },
  {
   "cell_type": "markdown",
   "metadata": {
    "id": "312df370538e442b8a85bb937cc980b8"
   },
   "source": [
    "### Provide credentials for heroku cli\n",
    "- Please use the credential provided to you"
   ]
  },
  {
   "cell_type": "code",
   "execution_count": 23,
   "metadata": {},
   "outputs": [],
   "source": [
    "heroku_email=\"md.abdul.kader\"\n",
    "heroku_api_key=\"c7891745-7f05-45c6-bd7c-d3b13e95e02e\""
   ]
  },
  {
   "cell_type": "markdown",
   "metadata": {},
   "source": [
    "### Store the credential"
   ]
  },
  {
   "cell_type": "code",
   "execution_count": 20,
   "metadata": {},
   "outputs": [],
   "source": [
    "netcontent='''machine api.heroku.com\n",
    "  login {heroku_email}\n",
    "  password {heroku_api_key}\n",
    "machine git.heroku.com\n",
    "  login {heroku_email}\n",
    "  password {heroku_api_key}\n",
    "'''.format(heroku_email=heroku_email,heroku_api_key=heroku_api_key)"
   ]
  },
  {
   "cell_type": "code",
   "execution_count": null,
   "metadata": {},
   "outputs": [],
   "source": [
    "%store netcontent > ~/.netrc"
   ]
  },
  {
   "cell_type": "markdown",
   "metadata": {
    "id": "e90f22858e7943128bbd12c6dec4f80d"
   },
   "source": [
    "## Create an heroku app\n",
    "- provide your group name in the APPNAME\n",
    "    - For example, airline-delay-202109-<font color=\"red\">group_name </font>"
   ]
  },
  {
   "cell_type": "code",
   "execution_count": 131,
   "metadata": {
    "id": "74f3cfd044a449ef87465482170e4afe"
   },
   "outputs": [
    {
     "name": "stdout",
     "output_type": "stream",
     "text": [
      "env: APPNAME=airline-delay-202109-group0\n"
     ]
    }
   ],
   "source": [
    "%env APPNAME=airline-delay-202109-group0"
   ]
  },
  {
   "cell_type": "code",
   "execution_count": 132,
   "metadata": {
    "id": "7025798b094d4330b20c46877b08e7eb"
   },
   "outputs": [
    {
     "name": "stdout",
     "output_type": "stream",
     "text": [
      "\u001b[G\u001b[2K\u001b[?25lCreating \u001b[35m⬢ airline-delay-202109-group0\u001b[39m... \u001b[35m⣾\u001b[39m \n",
      "\u001b[1A\u001b[42C\u001b[35m⣽\u001b[39m\u001b[1B\u001b[G\u001b[2K\u001b[1A\u001b[42C\u001b[35m⣻\u001b[39m\u001b[1B\u001b[G\u001b[2K\u001b[1A\u001b[42C\u001b[35m⢿\u001b[39m\u001b[1B\u001b[G\u001b[2K\u001b[1A\u001b[42C\u001b[35m⡿\u001b[39m\u001b[1B\u001b[G\u001b[2K\u001b[1A\u001b[42C\u001b[35m⣟\u001b[39m\u001b[1B\u001b[G\u001b[2K\u001b[1A\u001b[42C\u001b[35m⣯\u001b[39m\u001b[1B\u001b[G\u001b[2K\u001b[1A\u001b[42C\u001b[35m⣷\u001b[39m\u001b[1B\u001b[G\u001b[2K\u001b[1A\u001b[42C\u001b[35m⣾\u001b[39m\u001b[1B\u001b[G\u001b[2K\u001b[1A\u001b[42C\u001b[35m⣽\u001b[39m\u001b[1B\u001b[G\u001b[2K\u001b[1A\u001b[JCreating \u001b[35m⬢ airline-delay-202109-group0\u001b[39m... done\n",
      "\u001b[?25h\u001b[36mhttps://airline-delay-202109-group0.herokuapp.com/\u001b[39m | \u001b[32mhttps://git.heroku.com/airline-delay-202109-group0.git\u001b[39m\n",
      "\u001b[?25h"
     ]
    }
   ],
   "source": [
    "!./heroku/bin/heroku create $APPNAME"
   ]
  },
  {
   "cell_type": "markdown",
   "metadata": {
    "id": "b48c985b465c433689c55f08e08048e5"
   },
   "source": [
    "## Push to deploy to Heroku\n",
    "- Wait for the deployment to finish"
   ]
  },
  {
   "cell_type": "code",
   "execution_count": 133,
   "metadata": {
    "id": "566563a6d6cc4940b2374d83e7b13eef"
   },
   "outputs": [
    {
     "name": "stdout",
     "output_type": "stream",
     "text": [
      "set git remote heroku to https://git.heroku.com/airline-delay-202109-group0.git\n"
     ]
    },
    {
     "name": "stderr",
     "output_type": "stream",
     "text": [
      "remote: Compressing source files... done.        \n",
      "remote: Building source:        \n",
      "remote: \n",
      "remote: -----> Building on the Heroku-20 stack        \n",
      "remote: -----> Determining which buildpack to use for this app        \n",
      "remote: -----> Python app detected        \n",
      "remote: -----> No Python version was specified. Using the buildpack default: python-3.9.7        \n",
      "remote:        To use a different version, see: https://devcenter.heroku.com/articles/python-runtimes        \n",
      "remote: -----> Installing python-3.9.7        \n",
      "remote: -----> Installing pip 20.2.4, setuptools 47.1.1 and wheel 0.36.2        \n",
      "remote: -----> Installing SQLite3        \n",
      "remote: -----> Installing requirements with pip        \n",
      "remote:        Collecting gunicorn        \n",
      "remote:          Downloading gunicorn-20.1.0-py3-none-any.whl (79 kB)        \n",
      "remote:        Collecting flask        \n",
      "remote:          Downloading Flask-2.0.1-py3-none-any.whl (94 kB)        \n",
      "remote:        Collecting numpy        \n",
      "remote:          Downloading numpy-1.21.2-cp39-cp39-manylinux_2_12_x86_64.manylinux2010_x86_64.whl (15.8 MB)        \n",
      "remote:        Collecting scikit-learn==0.23.2        \n",
      "remote:          Downloading scikit-learn-0.23.2.tar.gz (7.2 MB)        \n",
      "remote:          Installing build dependencies: started        \n",
      "remote:          Installing build dependencies: still running...        \n",
      "remote:          Installing build dependencies: still running...        \n",
      "remote:          Installing build dependencies: still running...        \n",
      "remote:          Installing build dependencies: still running...        \n",
      "remote:          Installing build dependencies: finished with status 'done'        \n",
      "remote:          Getting requirements to build wheel: started        \n",
      "remote:          Getting requirements to build wheel: finished with status 'done'        \n",
      "remote:            Preparing wheel metadata: started        \n",
      "remote:            Preparing wheel metadata: finished with status 'done'        \n",
      "remote:        Collecting pandas        \n",
      "remote:          Downloading pandas-1.3.2-cp39-cp39-manylinux_2_17_x86_64.manylinux2014_x86_64.whl (11.5 MB)        \n",
      "remote:        Collecting itsdangerous>=2.0        \n",
      "remote:          Downloading itsdangerous-2.0.1-py3-none-any.whl (18 kB)        \n",
      "remote:        Collecting Jinja2>=3.0        \n",
      "remote:          Downloading Jinja2-3.0.1-py3-none-any.whl (133 kB)        \n",
      "remote:        Collecting click>=7.1.2        \n",
      "remote:          Downloading click-8.0.1-py3-none-any.whl (97 kB)        \n",
      "remote:        Collecting Werkzeug>=2.0        \n",
      "remote:          Downloading Werkzeug-2.0.1-py3-none-any.whl (288 kB)        \n",
      "remote:        Collecting threadpoolctl>=2.0.0        \n",
      "remote:          Downloading threadpoolctl-2.2.0-py3-none-any.whl (12 kB)        \n",
      "remote:        Collecting joblib>=0.11        \n",
      "remote:          Downloading joblib-1.0.1-py3-none-any.whl (303 kB)        \n",
      "remote:        Collecting scipy>=0.19.1        \n",
      "remote:          Downloading scipy-1.7.1-cp39-cp39-manylinux_2_5_x86_64.manylinux1_x86_64.whl (28.5 MB)        \n",
      "remote:        Collecting python-dateutil>=2.7.3        \n",
      "remote:          Downloading python_dateutil-2.8.2-py2.py3-none-any.whl (247 kB)        \n",
      "remote:        Collecting pytz>=2017.3        \n",
      "remote:          Downloading pytz-2021.1-py2.py3-none-any.whl (510 kB)        \n",
      "remote:        Collecting MarkupSafe>=2.0        \n",
      "remote:          Downloading MarkupSafe-2.0.1-cp39-cp39-manylinux2010_x86_64.whl (30 kB)        \n",
      "remote:        Collecting six>=1.5        \n",
      "remote:          Downloading six-1.16.0-py2.py3-none-any.whl (11 kB)        \n",
      "remote:        Building wheels for collected packages: scikit-learn        \n",
      "remote:          Building wheel for scikit-learn (PEP 517): started        \n",
      "remote:          Building wheel for scikit-learn (PEP 517): still running...        \n",
      "remote:          Building wheel for scikit-learn (PEP 517): still running...        \n",
      "remote:          Building wheel for scikit-learn (PEP 517): still running...        \n",
      "remote:          Building wheel for scikit-learn (PEP 517): still running...        \n",
      "remote:          Building wheel for scikit-learn (PEP 517): still running...        \n",
      "remote:          Building wheel for scikit-learn (PEP 517): still running...        \n",
      "remote:          Building wheel for scikit-learn (PEP 517): still running...        \n",
      "remote:          Building wheel for scikit-learn (PEP 517): finished with status 'done'        \n",
      "remote:          Created wheel for scikit-learn: filename=scikit_learn-0.23.2-cp39-cp39-linux_x86_64.whl size=25377446 sha256=dad5e9acc9fae1009b9900eb874f38c807f0ac8f6a1a3538cae73cfc3c296dab        \n",
      "remote:          Stored in directory: /tmp/pip-ephem-wheel-cache-zyz9z5_n/wheels/5e/74/24/7e235ccf01765c0daa089c98cc823e9dc1383da5fe0ed7e224        \n",
      "remote:        Successfully built scikit-learn        \n",
      "remote:        Installing collected packages: gunicorn, itsdangerous, MarkupSafe, Jinja2, click, Werkzeug, flask, numpy, threadpoolctl, joblib, scipy, scikit-learn, six, python-dateutil, pytz, pandas        \n",
      "remote:        Successfully installed Jinja2-3.0.1 MarkupSafe-2.0.1 Werkzeug-2.0.1 click-8.0.1 flask-2.0.1 gunicorn-20.1.0 itsdangerous-2.0.1 joblib-1.0.1 numpy-1.21.2 pandas-1.3.2 python-dateutil-2.8.2 pytz-2021.1 scikit-learn-0.23.2 scipy-1.7.1 six-1.16.0 threadpoolctl-2.2.0        \n",
      "remote: -----> Discovering process types        \n",
      "remote:        Procfile declares types -> web        \n",
      "remote: \n",
      "remote: -----> Compressing...        \n",
      "remote:        Done: 142.9M        \n",
      "remote: -----> Launching...        \n",
      "remote:        Released v3        \n",
      "remote:        https://airline-delay-202109-group0.herokuapp.com/ deployed to Heroku        \n",
      "remote: \n",
      "remote: Verifying deploy... done.        \n",
      "To https://git.heroku.com/airline-delay-202109-group0.git\n",
      " * [new branch]      master -> master\n"
     ]
    }
   ],
   "source": [
    "%%sh\n",
    "cd ~/work/heroku-model-deploy\n",
    "~/work/heroku/bin/heroku git:remote -a $APPNAME\n",
    "git push heroku master"
   ]
  },
  {
   "cell_type": "markdown",
   "metadata": {
    "id": "1f83fe32e8a3442c8f600211cc332cec"
   },
   "source": [
    "### Test"
   ]
  },
  {
   "cell_type": "code",
   "execution_count": 134,
   "metadata": {
    "id": "b98777cb662d4c93898649bda24d9e54"
   },
   "outputs": [
    {
     "data": {
      "text/plain": [
       "{'data': [{'predictionValues': [{'value': 0.9309014917827806, 'label': 0},\n",
       "    {'value': 0.06909850821721943, 'label': 1}],\n",
       "   'prediction': 0,\n",
       "   'rowId': 0}]}"
      ]
     },
     "execution_count": 134,
     "metadata": {},
     "output_type": "execute_result"
    }
   ],
   "source": [
    "import requests;\n",
    "import os;\n",
    "\n",
    "data=[{\"DAY\":11,\"DAY_OF_WEEK\":7,\"ORIGIN_AIRPORT\":\"ABQ\",\"DESTINATION_AIRPORT\":\"DFW\",\"DEPARTURE_DELAY\":2,\"TAXI_OUT\":11,\"DISTANCE\":570}]\n",
    "resp=requests.post(f'https://{os.environ[\"APPNAME\"]}.herokuapp.com/predict',json=data,auth=('datarobot', 'apikey_for_datarobot'))\n",
    "resp.json()\n"
   ]
  },
  {
   "cell_type": "code",
   "execution_count": null,
   "metadata": {
    "id": "1f865255e0c9448781f17eb7467edc84"
   },
   "outputs": [],
   "source": []
  }
 ],
 "metadata": {
  "kernelspec": {
   "display_name": "Python 3",
   "language": "python",
   "name": "python3"
  },
  "language_info": {
   "codemirror_mode": {
    "name": "ipython",
    "version": 3
   },
   "file_extension": ".py",
   "mimetype": "text/x-python",
   "name": "python",
   "nbconvert_exporter": "python",
   "pygments_lexer": "ipython3",
   "version": "3.7.4"
  }
 },
 "nbformat": 4,
 "nbformat_minor": 1
}
